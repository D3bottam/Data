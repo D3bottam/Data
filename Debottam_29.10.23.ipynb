{
 "cells": [
  {
   "cell_type": "markdown",
   "id": "6a7d5404",
   "metadata": {},
   "source": [
    "<font color='blue'>\n",
    "    <font size = 5>\n",
    "        You have been given the role of a business analyst for an E-Commerce company and have been asked to prepare a basic report on the data. Follow the steps below for preparation of the report. \n",
    "\n",
    "Before you start analysing the data, it is always a good practice to see the size of the data, its features and feature types. If the data set is big, it is not possible to print out all the records. \n",
    "    </font>\n",
    "####  Note: Use the markdown feature of Python to explain your answer.\n",
    "    "
   ]
  },
  {
   "cell_type": "markdown",
   "id": "daf5d935",
   "metadata": {},
   "source": [
    "## Load the necessary libraries. Import and load the dataset with a name ECom_Data ."
   ]
  },
  {
   "cell_type": "code",
   "execution_count": 1,
   "id": "eec2a3b5",
   "metadata": {},
   "outputs": [],
   "source": [
    "import numpy as np\n",
    "import pandas as pd\n",
    "import matplotlib.pyplot as plt\n",
    "import seaborn as sns\n",
    "pd.options.display.max_rows = 10"
   ]
  },
  {
   "cell_type": "code",
   "execution_count": 2,
   "id": "8e1fcc97",
   "metadata": {},
   "outputs": [],
   "source": [
    "# Get the Data\n",
    "\n",
    "ECom_Data=pd.read_csv(\"E-Commerce.csv\")\n"
   ]
  },
  {
   "cell_type": "code",
   "execution_count": 3,
   "id": "f57f34c3",
   "metadata": {},
   "outputs": [
    {
     "data": {
      "text/html": [
       "<div>\n",
       "<style scoped>\n",
       "    .dataframe tbody tr th:only-of-type {\n",
       "        vertical-align: middle;\n",
       "    }\n",
       "\n",
       "    .dataframe tbody tr th {\n",
       "        vertical-align: top;\n",
       "    }\n",
       "\n",
       "    .dataframe thead th {\n",
       "        text-align: right;\n",
       "    }\n",
       "</style>\n",
       "<table border=\"1\" class=\"dataframe\">\n",
       "  <thead>\n",
       "    <tr style=\"text-align: right;\">\n",
       "      <th></th>\n",
       "      <th>Customer_uniq_id</th>\n",
       "      <th>Region</th>\n",
       "      <th>Order_Date</th>\n",
       "      <th>Expected_Delivery_Date</th>\n",
       "      <th>Delivered_Date</th>\n",
       "      <th>product_name</th>\n",
       "      <th>product_main_category</th>\n",
       "      <th>product_subcategory</th>\n",
       "      <th>product_category_filter</th>\n",
       "      <th>product_category_subfilter</th>\n",
       "      <th>product_unique ID</th>\n",
       "      <th>retail_price</th>\n",
       "      <th>discounted_price</th>\n",
       "      <th>product_rating</th>\n",
       "      <th>Brand</th>\n",
       "      <th>product_specifications</th>\n",
       "      <th>description</th>\n",
       "    </tr>\n",
       "  </thead>\n",
       "  <tbody>\n",
       "    <tr>\n",
       "      <th>0</th>\n",
       "      <td>e71017e224688489edfe856f2308806d</td>\n",
       "      <td>East</td>\n",
       "      <td>24-10-2021</td>\n",
       "      <td>25-10-2021</td>\n",
       "      <td>25-10-2021</td>\n",
       "      <td>Indcrown Net Embroidered Semi-stitched Lehenga...</td>\n",
       "      <td>Clothing</td>\n",
       "      <td>Women's Clothing</td>\n",
       "      <td>Ethnic Wear</td>\n",
       "      <td>Fabric</td>\n",
       "      <td>FABEJX2NHNKCYHKA</td>\n",
       "      <td>999</td>\n",
       "      <td>699</td>\n",
       "      <td>4.0</td>\n",
       "      <td>INDCROWN</td>\n",
       "      <td>{\"product_specification\"=&gt;[{\"key\"=&gt;\"Fabric\", \"...</td>\n",
       "      <td>Key Features of Indcrown Net Embroidered Semi-...</td>\n",
       "    </tr>\n",
       "    <tr>\n",
       "      <th>1</th>\n",
       "      <td>6286847ee2da18f587503db49511c539</td>\n",
       "      <td>East</td>\n",
       "      <td>24-10-2021</td>\n",
       "      <td>25-10-2021</td>\n",
       "      <td>25-10-2021</td>\n",
       "      <td>Shopmania Music Band A5 Notebook Spiral Bound</td>\n",
       "      <td>Pens &amp; Stationery</td>\n",
       "      <td>Diaries &amp; Notebooks</td>\n",
       "      <td>Notebooks</td>\n",
       "      <td>Designer</td>\n",
       "      <td>DIAEJ6Z8BEDTGGYY</td>\n",
       "      <td>499</td>\n",
       "      <td>275</td>\n",
       "      <td>1.0</td>\n",
       "      <td>SHOPMANIA</td>\n",
       "      <td>{\"product_specification\"=&gt;[{\"key\"=&gt;\"Ruling\", \"...</td>\n",
       "      <td>Specifications of Shopmania Music Band A5 Note...</td>\n",
       "    </tr>\n",
       "    <tr>\n",
       "      <th>2</th>\n",
       "      <td>0686fec9b70e5039583a38119ca0c835</td>\n",
       "      <td>West</td>\n",
       "      <td>24-10-2021</td>\n",
       "      <td>25-10-2021</td>\n",
       "      <td>25-10-2021</td>\n",
       "      <td>Shopmania Music Band A5 Notebook Spiral Bound</td>\n",
       "      <td>Pens &amp; Stationery</td>\n",
       "      <td>Diaries &amp; Notebooks</td>\n",
       "      <td>Notebooks</td>\n",
       "      <td>Designer</td>\n",
       "      <td>DIAEJ6Z8KQFWDEGH</td>\n",
       "      <td>499</td>\n",
       "      <td>275</td>\n",
       "      <td>2.0</td>\n",
       "      <td>SHOPMANIA</td>\n",
       "      <td>{\"product_specification\"=&gt;[{\"key\"=&gt;\"Ruling\", \"...</td>\n",
       "      <td>Specifications of Shopmania Music Band A5 Note...</td>\n",
       "    </tr>\n",
       "    <tr>\n",
       "      <th>3</th>\n",
       "      <td>ea2406dc597bee2abb6b867fa668501f</td>\n",
       "      <td>West</td>\n",
       "      <td>24-10-2021</td>\n",
       "      <td>25-10-2021</td>\n",
       "      <td>25-10-2021</td>\n",
       "      <td>Tiara Diaries 2016-2017 Designer LA Kaarta \"TA...</td>\n",
       "      <td>Pens &amp; Stationery</td>\n",
       "      <td>Diaries &amp; Notebooks</td>\n",
       "      <td>Notebooks</td>\n",
       "      <td>Designer</td>\n",
       "      <td>DIAEJ8FGHZ3K86JU</td>\n",
       "      <td>1000</td>\n",
       "      <td>837</td>\n",
       "      <td>3.0</td>\n",
       "      <td>TIARA DIARIES</td>\n",
       "      <td>{\"product_specification\"=&gt;[{\"key\"=&gt;\"Ruling\", \"...</td>\n",
       "      <td>Specifications of Tiara Diaries 2016-2017 Desi...</td>\n",
       "    </tr>\n",
       "    <tr>\n",
       "      <th>4</th>\n",
       "      <td>5935ed077915347dc695744df68c565c</td>\n",
       "      <td>East</td>\n",
       "      <td>03-09-2021</td>\n",
       "      <td>04-09-2021</td>\n",
       "      <td>04-09-2021</td>\n",
       "      <td>KAJCI Embroidered Women's Waistcoat</td>\n",
       "      <td>Clothing</td>\n",
       "      <td>Women's Clothing</td>\n",
       "      <td>Formal Wear</td>\n",
       "      <td>Waistcoats</td>\n",
       "      <td>WSCEG2FYDYFDSVZ6</td>\n",
       "      <td>1200</td>\n",
       "      <td>699</td>\n",
       "      <td>5.0</td>\n",
       "      <td>KAJCI</td>\n",
       "      <td>{\"product_specification\"=&gt;[{\"key\"=&gt;\"Pattern\", ...</td>\n",
       "      <td>Specifications of KAJCI Embroidered Women's Wa...</td>\n",
       "    </tr>\n",
       "    <tr>\n",
       "      <th>...</th>\n",
       "      <td>...</td>\n",
       "      <td>...</td>\n",
       "      <td>...</td>\n",
       "      <td>...</td>\n",
       "      <td>...</td>\n",
       "      <td>...</td>\n",
       "      <td>...</td>\n",
       "      <td>...</td>\n",
       "      <td>...</td>\n",
       "      <td>...</td>\n",
       "      <td>...</td>\n",
       "      <td>...</td>\n",
       "      <td>...</td>\n",
       "      <td>...</td>\n",
       "      <td>...</td>\n",
       "      <td>...</td>\n",
       "      <td>...</td>\n",
       "    </tr>\n",
       "    <tr>\n",
       "      <th>8901</th>\n",
       "      <td>90d30478255e23621e8929ed15c2f6e4</td>\n",
       "      <td>South</td>\n",
       "      <td>01-12-2020</td>\n",
       "      <td>04-12-2020</td>\n",
       "      <td>04-12-2020</td>\n",
       "      <td>Sinina Chanderi Embroidered Salwar Suit Dupatt...</td>\n",
       "      <td>Clothing</td>\n",
       "      <td>Women's Clothing</td>\n",
       "      <td>Ethnic Wear</td>\n",
       "      <td>Fabric</td>\n",
       "      <td>FABEGGHHDFMY8BZU</td>\n",
       "      <td>2980</td>\n",
       "      <td>1490</td>\n",
       "      <td>3.0</td>\n",
       "      <td>SININA</td>\n",
       "      <td>{\"product_specification\"=&gt;[{\"key\"=&gt;\"Fabric\", \"...</td>\n",
       "      <td>Key Features of Sinina Chanderi Embroidered Sa...</td>\n",
       "    </tr>\n",
       "    <tr>\n",
       "      <th>8902</th>\n",
       "      <td>20a73e3f41490a73ceeba5f17658db8f</td>\n",
       "      <td>West</td>\n",
       "      <td>01-12-2020</td>\n",
       "      <td>04-12-2020</td>\n",
       "      <td>04-12-2020</td>\n",
       "      <td>Aarushi Fashion Chanderi Embroidered Salwar Su...</td>\n",
       "      <td>Clothing</td>\n",
       "      <td>Women's Clothing</td>\n",
       "      <td>Ethnic Wear</td>\n",
       "      <td>Fabric</td>\n",
       "      <td>FABEG8GFDUWRSNU3</td>\n",
       "      <td>2600</td>\n",
       "      <td>1300</td>\n",
       "      <td>1.0</td>\n",
       "      <td>AARUSHI FASHION</td>\n",
       "      <td>{\"product_specification\"=&gt;[{\"key\"=&gt;\"Fabric\", \"...</td>\n",
       "      <td>Key Features of Aarushi Fashion Chanderi Embro...</td>\n",
       "    </tr>\n",
       "    <tr>\n",
       "      <th>8903</th>\n",
       "      <td>5c1554cd45f9d538c2c6947dbdd59c75</td>\n",
       "      <td>East</td>\n",
       "      <td>01-12-2020</td>\n",
       "      <td>04-12-2020</td>\n",
       "      <td>04-12-2020</td>\n",
       "      <td>Ambika Lahenga Embroidered Lehenga, Choli and ...</td>\n",
       "      <td>Clothing</td>\n",
       "      <td>Women's Clothing</td>\n",
       "      <td>Ethnic Wear</td>\n",
       "      <td>Lehenga Cholis</td>\n",
       "      <td>LEHEGGEHYN4G2RPW</td>\n",
       "      <td>39992</td>\n",
       "      <td>24995</td>\n",
       "      <td>1.0</td>\n",
       "      <td>AMBIKA LAHENGA</td>\n",
       "      <td>{\"product_specification\"=&gt;[{\"key\"=&gt;\"Fabric\", \"...</td>\n",
       "      <td>Key Features of Ambika Lahenga Embroidered Leh...</td>\n",
       "    </tr>\n",
       "    <tr>\n",
       "      <th>8904</th>\n",
       "      <td>6b737a4deca1ed0e56c179e66036e994</td>\n",
       "      <td>West</td>\n",
       "      <td>01-12-2020</td>\n",
       "      <td>04-12-2020</td>\n",
       "      <td>04-12-2020</td>\n",
       "      <td>Sinina Chanderi Embroidered Salwar Suit Dupatt...</td>\n",
       "      <td>Clothing</td>\n",
       "      <td>Women's Clothing</td>\n",
       "      <td>Ethnic Wear</td>\n",
       "      <td>Fabric</td>\n",
       "      <td>FABEGGHHGSVCHGFV</td>\n",
       "      <td>2000</td>\n",
       "      <td>1000</td>\n",
       "      <td>3.0</td>\n",
       "      <td>SININA</td>\n",
       "      <td>{\"product_specification\"=&gt;[{\"key\"=&gt;\"Fabric\", \"...</td>\n",
       "      <td>Key Features of Sinina Chanderi Embroidered Sa...</td>\n",
       "    </tr>\n",
       "    <tr>\n",
       "      <th>8905</th>\n",
       "      <td>a5235ac28d3d5487f54025f9d6b57433</td>\n",
       "      <td>North</td>\n",
       "      <td>01-12-2020</td>\n",
       "      <td>04-12-2020</td>\n",
       "      <td>04-12-2020</td>\n",
       "      <td>Aarushi Fashion Silk Striped Salwar Suit Dupat...</td>\n",
       "      <td>Clothing</td>\n",
       "      <td>Women's Clothing</td>\n",
       "      <td>Ethnic Wear</td>\n",
       "      <td>Fabric</td>\n",
       "      <td>FABEG8GYDAABECZH</td>\n",
       "      <td>2800</td>\n",
       "      <td>1350</td>\n",
       "      <td>4.0</td>\n",
       "      <td>AARUSHI FASHION</td>\n",
       "      <td>{\"product_specification\"=&gt;[{\"key\"=&gt;\"Fabric\", \"...</td>\n",
       "      <td>Key Features of Aarushi Fashion Silk Striped S...</td>\n",
       "    </tr>\n",
       "  </tbody>\n",
       "</table>\n",
       "<p>8906 rows × 17 columns</p>\n",
       "</div>"
      ],
      "text/plain": [
       "                      Customer_uniq_id Region  Order_Date  \\\n",
       "0     e71017e224688489edfe856f2308806d  East   24-10-2021   \n",
       "1     6286847ee2da18f587503db49511c539  East   24-10-2021   \n",
       "2     0686fec9b70e5039583a38119ca0c835   West  24-10-2021   \n",
       "3     ea2406dc597bee2abb6b867fa668501f   West  24-10-2021   \n",
       "4     5935ed077915347dc695744df68c565c  East   03-09-2021   \n",
       "...                                ...    ...         ...   \n",
       "8901  90d30478255e23621e8929ed15c2f6e4  South  01-12-2020   \n",
       "8902  20a73e3f41490a73ceeba5f17658db8f   West  01-12-2020   \n",
       "8903  5c1554cd45f9d538c2c6947dbdd59c75  East   01-12-2020   \n",
       "8904  6b737a4deca1ed0e56c179e66036e994   West  01-12-2020   \n",
       "8905  a5235ac28d3d5487f54025f9d6b57433  North  01-12-2020   \n",
       "\n",
       "     Expected_Delivery_Date Delivered_Date  \\\n",
       "0                25-10-2021     25-10-2021   \n",
       "1                25-10-2021     25-10-2021   \n",
       "2                25-10-2021     25-10-2021   \n",
       "3                25-10-2021     25-10-2021   \n",
       "4                04-09-2021     04-09-2021   \n",
       "...                     ...            ...   \n",
       "8901             04-12-2020     04-12-2020   \n",
       "8902             04-12-2020     04-12-2020   \n",
       "8903             04-12-2020     04-12-2020   \n",
       "8904             04-12-2020     04-12-2020   \n",
       "8905             04-12-2020     04-12-2020   \n",
       "\n",
       "                                           product_name product_main_category  \\\n",
       "0     Indcrown Net Embroidered Semi-stitched Lehenga...             Clothing    \n",
       "1         Shopmania Music Band A5 Notebook Spiral Bound    Pens & Stationery    \n",
       "2         Shopmania Music Band A5 Notebook Spiral Bound    Pens & Stationery    \n",
       "3     Tiara Diaries 2016-2017 Designer LA Kaarta \"TA...    Pens & Stationery    \n",
       "4                   KAJCI Embroidered Women's Waistcoat             Clothing    \n",
       "...                                                 ...                   ...   \n",
       "8901  Sinina Chanderi Embroidered Salwar Suit Dupatt...             Clothing    \n",
       "8902  Aarushi Fashion Chanderi Embroidered Salwar Su...             Clothing    \n",
       "8903  Ambika Lahenga Embroidered Lehenga, Choli and ...             Clothing    \n",
       "8904  Sinina Chanderi Embroidered Salwar Suit Dupatt...             Clothing    \n",
       "8905  Aarushi Fashion Silk Striped Salwar Suit Dupat...             Clothing    \n",
       "\n",
       "        product_subcategory product_category_filter  \\\n",
       "0         Women's Clothing             Ethnic Wear    \n",
       "1      Diaries & Notebooks               Notebooks    \n",
       "2      Diaries & Notebooks               Notebooks    \n",
       "3      Diaries & Notebooks               Notebooks    \n",
       "4         Women's Clothing             Formal Wear    \n",
       "...                     ...                     ...   \n",
       "8901      Women's Clothing             Ethnic Wear    \n",
       "8902      Women's Clothing             Ethnic Wear    \n",
       "8903      Women's Clothing             Ethnic Wear    \n",
       "8904      Women's Clothing             Ethnic Wear    \n",
       "8905      Women's Clothing             Ethnic Wear    \n",
       "\n",
       "     product_category_subfilter product_unique ID  retail_price  \\\n",
       "0                       Fabric   FABEJX2NHNKCYHKA           999   \n",
       "1                     Designer   DIAEJ6Z8BEDTGGYY           499   \n",
       "2                     Designer   DIAEJ6Z8KQFWDEGH           499   \n",
       "3                     Designer   DIAEJ8FGHZ3K86JU          1000   \n",
       "4                   Waistcoats   WSCEG2FYDYFDSVZ6          1200   \n",
       "...                         ...               ...           ...   \n",
       "8901                    Fabric   FABEGGHHDFMY8BZU          2980   \n",
       "8902                    Fabric   FABEG8GFDUWRSNU3          2600   \n",
       "8903            Lehenga Cholis   LEHEGGEHYN4G2RPW         39992   \n",
       "8904                    Fabric   FABEGGHHGSVCHGFV          2000   \n",
       "8905                    Fabric   FABEG8GYDAABECZH          2800   \n",
       "\n",
       "      discounted_price  product_rating            Brand  \\\n",
       "0                  699             4.0         INDCROWN   \n",
       "1                  275             1.0        SHOPMANIA   \n",
       "2                  275             2.0        SHOPMANIA   \n",
       "3                  837             3.0    TIARA DIARIES   \n",
       "4                  699             5.0            KAJCI   \n",
       "...                ...             ...              ...   \n",
       "8901              1490             3.0           SININA   \n",
       "8902              1300             1.0  AARUSHI FASHION   \n",
       "8903             24995             1.0   AMBIKA LAHENGA   \n",
       "8904              1000             3.0           SININA   \n",
       "8905              1350             4.0  AARUSHI FASHION   \n",
       "\n",
       "                                 product_specifications  \\\n",
       "0     {\"product_specification\"=>[{\"key\"=>\"Fabric\", \"...   \n",
       "1     {\"product_specification\"=>[{\"key\"=>\"Ruling\", \"...   \n",
       "2     {\"product_specification\"=>[{\"key\"=>\"Ruling\", \"...   \n",
       "3     {\"product_specification\"=>[{\"key\"=>\"Ruling\", \"...   \n",
       "4     {\"product_specification\"=>[{\"key\"=>\"Pattern\", ...   \n",
       "...                                                 ...   \n",
       "8901  {\"product_specification\"=>[{\"key\"=>\"Fabric\", \"...   \n",
       "8902  {\"product_specification\"=>[{\"key\"=>\"Fabric\", \"...   \n",
       "8903  {\"product_specification\"=>[{\"key\"=>\"Fabric\", \"...   \n",
       "8904  {\"product_specification\"=>[{\"key\"=>\"Fabric\", \"...   \n",
       "8905  {\"product_specification\"=>[{\"key\"=>\"Fabric\", \"...   \n",
       "\n",
       "                                            description  \n",
       "0     Key Features of Indcrown Net Embroidered Semi-...  \n",
       "1     Specifications of Shopmania Music Band A5 Note...  \n",
       "2     Specifications of Shopmania Music Band A5 Note...  \n",
       "3     Specifications of Tiara Diaries 2016-2017 Desi...  \n",
       "4     Specifications of KAJCI Embroidered Women's Wa...  \n",
       "...                                                 ...  \n",
       "8901  Key Features of Sinina Chanderi Embroidered Sa...  \n",
       "8902  Key Features of Aarushi Fashion Chanderi Embro...  \n",
       "8903  Key Features of Ambika Lahenga Embroidered Leh...  \n",
       "8904  Key Features of Sinina Chanderi Embroidered Sa...  \n",
       "8905  Key Features of Aarushi Fashion Silk Striped S...  \n",
       "\n",
       "[8906 rows x 17 columns]"
      ]
     },
     "execution_count": 3,
     "metadata": {},
     "output_type": "execute_result"
    }
   ],
   "source": [
    "ECom_Data"
   ]
  },
  {
   "cell_type": "markdown",
   "id": "2cf5f20f",
   "metadata": {},
   "source": [
    "<font color='blue'>\n",
    "    <font size = 5>\n",
    "        We have read the data and stored the data in \"ECom_Data\" variable </font>"
   ]
  },
  {
   "cell_type": "markdown",
   "id": "a0a4f84a",
   "metadata": {},
   "source": [
    "## Q 1.\tTo get familiar with the data\n",
    "## a)\tPrint out the first 10 and the last 10 records of the data. (2 marks)\n",
    "## b)\tHow many rows and columns are present in the dataset? Use any two different methods to extract this information. (2 + 2 + 2 marks)\n",
    "## c)\tHow many object data types are there? (1 mark)\n",
    "## d)\tIs there any Boolean data type? (1 mark) \n",
    "#### Note: Use the markdown feature of Python to explain your answer.\n"
   ]
  },
  {
   "cell_type": "markdown",
   "id": "0ba43d74",
   "metadata": {},
   "source": [
    "#### Ans 1 a)"
   ]
  },
  {
   "cell_type": "code",
   "execution_count": 6,
   "id": "6684f5a1",
   "metadata": {},
   "outputs": [
    {
     "name": "stdout",
     "output_type": "stream",
     "text": [
      "                   Customer_uniq_id Region  Order_Date Expected_Delivery_Date  \\\n",
      "0  e71017e224688489edfe856f2308806d  East   24-10-2021             25-10-2021   \n",
      "1  6286847ee2da18f587503db49511c539  East   24-10-2021             25-10-2021   \n",
      "2  0686fec9b70e5039583a38119ca0c835   West  24-10-2021             25-10-2021   \n",
      "3  ea2406dc597bee2abb6b867fa668501f   West  24-10-2021             25-10-2021   \n",
      "4  5935ed077915347dc695744df68c565c  East   03-09-2021             04-09-2021   \n",
      "5  89fcdddaad50084e395d0928a7426afe  East   03-09-2021             04-09-2021   \n",
      "6  b9b183aa18d3a721d2ac23e7184525b0  East   03-09-2021             04-09-2021   \n",
      "7  dee64864c0419bec80fbbb94d19bc40d  East   03-09-2021             04-09-2021   \n",
      "8  595f55f2c1293f07ea9ec9fa2bb39f46  East   03-09-2021             04-09-2021   \n",
      "9  547b6585272473ae006bcfbdb47b6ae0   West  26-08-2021             27-08-2021   \n",
      "\n",
      "  Delivered_Date                                       product_name  \\\n",
      "0     25-10-2021  Indcrown Net Embroidered Semi-stitched Lehenga...   \n",
      "1     25-10-2021      Shopmania Music Band A5 Notebook Spiral Bound   \n",
      "2     25-10-2021      Shopmania Music Band A5 Notebook Spiral Bound   \n",
      "3     25-10-2021  Tiara Diaries 2016-2017 Designer LA Kaarta \"TA...   \n",
      "4     04-09-2021                KAJCI Embroidered Women's Waistcoat   \n",
      "5     04-09-2021  Packman 8 x 10 inches Security Bags Without PO...   \n",
      "6     04-09-2021          Pick Pocket Embroidered Women's Waistcoat   \n",
      "7     04-09-2021                        Angelfish Silk Potali Potli   \n",
      "8     04-09-2021                                 Oye Boy's Dungaree   \n",
      "9     27-08-2021                                Nuride Canvas Shoes   \n",
      "\n",
      "    product_main_category    product_subcategory    product_category_filter  \\\n",
      "0               Clothing       Women's Clothing                Ethnic Wear    \n",
      "1      Pens & Stationery    Diaries & Notebooks                  Notebooks    \n",
      "2      Pens & Stationery    Diaries & Notebooks                  Notebooks    \n",
      "3      Pens & Stationery    Diaries & Notebooks                  Notebooks    \n",
      "4               Clothing       Women's Clothing                Formal Wear    \n",
      "5      Pens & Stationery        Office Supplies    Packaging Security Bags    \n",
      "6               Clothing       Women's Clothing                Formal Wear    \n",
      "7  Bags, Wallets & Belts                   Bags         Pouches and Potlis    \n",
      "8               Clothing         Kids' Clothing                  Boys Wear    \n",
      "9               Footwear       Women's Footwear               Casual Shoes    \n",
      "\n",
      "          product_category_subfilter product_unique ID  retail_price  \\\n",
      "0                            Fabric   FABEJX2NHNKCYHKA           999   \n",
      "1                          Designer   DIAEJ6Z8BEDTGGYY           499   \n",
      "2                          Designer   DIAEJ6Z8KQFWDEGH           499   \n",
      "3                          Designer   DIAEJ8FGHZ3K86JU          1000   \n",
      "4                        Waistcoats   WSCEG2FYDYFDSVZ6          1200   \n",
      "5   Packman Packaging Security Bags   PKBEGBTRKKHU26YQ           350   \n",
      "6                        Waistcoats   WSCEFUV4TVWT73ZB           899   \n",
      "7      Angelfish Pouches and Potlis   PPSEGFYAGD8FYUXV           999   \n",
      "8             Dungarees & Jumpsuits   DRPEF2XSFBAP4SUZ           899   \n",
      "9                            Canvas   SHOEGVQCT2ZSGUHY          1999   \n",
      "\n",
      "   discounted_price  product_rating          Brand  \\\n",
      "0               699             4.0       INDCROWN   \n",
      "1               275             1.0      SHOPMANIA   \n",
      "2               275             2.0      SHOPMANIA   \n",
      "3               837             3.0  TIARA DIARIES   \n",
      "4               699             5.0          KAJCI   \n",
      "5               298             4.0        PACKMAN   \n",
      "6               899             1.0    PICK POCKET   \n",
      "7               399             4.0      ANGELFISH   \n",
      "8               764             1.0            OYE   \n",
      "9              1349             2.0         NURIDE   \n",
      "\n",
      "                              product_specifications  \\\n",
      "0  {\"product_specification\"=>[{\"key\"=>\"Fabric\", \"...   \n",
      "1  {\"product_specification\"=>[{\"key\"=>\"Ruling\", \"...   \n",
      "2  {\"product_specification\"=>[{\"key\"=>\"Ruling\", \"...   \n",
      "3  {\"product_specification\"=>[{\"key\"=>\"Ruling\", \"...   \n",
      "4  {\"product_specification\"=>[{\"key\"=>\"Pattern\", ...   \n",
      "5  {\"product_specification\"=>[{\"key\"=>\"Bubble Wra...   \n",
      "6  {\"product_specification\"=>[{\"key\"=>\"Pattern\", ...   \n",
      "7  {\"product_specification\"=>[{\"key\"=>\"Closure\", ...   \n",
      "8  {\"product_specification\"=>[{\"key\"=>\"Number of ...   \n",
      "9  {\"product_specification\"=>[{\"key\"=>\"Occasion\",...   \n",
      "\n",
      "                                         description  \n",
      "0  Key Features of Indcrown Net Embroidered Semi-...  \n",
      "1  Specifications of Shopmania Music Band A5 Note...  \n",
      "2  Specifications of Shopmania Music Band A5 Note...  \n",
      "3  Specifications of Tiara Diaries 2016-2017 Desi...  \n",
      "4  Specifications of KAJCI Embroidered Women's Wa...  \n",
      "5  Key Features of Packman 8 x 10 inches Security...  \n",
      "6  Specifications of Pick Pocket Embroidered Wome...  \n",
      "7  Angelfish Silk Potali Potli (Multicolor) Price...  \n",
      "8  Specifications of Oye Boy's Dungaree Top Detai...  \n",
      "9  Key Features of Nuride Canvas Shoes Material: ...  \n"
     ]
    }
   ],
   "source": [
    "#Printing first 10\n",
    "\n",
    "a= ECom_Data.head(10)\n",
    "\n",
    "print (a)"
   ]
  },
  {
   "cell_type": "code",
   "execution_count": 9,
   "id": "222d470a",
   "metadata": {},
   "outputs": [
    {
     "name": "stdout",
     "output_type": "stream",
     "text": [
      "                      Customer_uniq_id Region  Order_Date  \\\n",
      "8896  4db03bc4ccbe216cf151b2f2b904ba3f  East   01-12-2020   \n",
      "8897  4d4d6aeb13fa253499d0dd45a5abd87e   West  01-12-2020   \n",
      "8898  ea19e7ef703293d3f6c799ca9db4642d   West  01-12-2020   \n",
      "8899  19a53a958992fb575acffb5d41e7ef9e  East   01-12-2020   \n",
      "8900  09abab80c8dfdc6f268e0a6f05a0be11  North  01-12-2020   \n",
      "8901  90d30478255e23621e8929ed15c2f6e4  South  01-12-2020   \n",
      "8902  20a73e3f41490a73ceeba5f17658db8f   West  01-12-2020   \n",
      "8903  5c1554cd45f9d538c2c6947dbdd59c75  East   01-12-2020   \n",
      "8904  6b737a4deca1ed0e56c179e66036e994   West  01-12-2020   \n",
      "8905  a5235ac28d3d5487f54025f9d6b57433  North  01-12-2020   \n",
      "\n",
      "     Expected_Delivery_Date Delivered_Date  \\\n",
      "8896             04-12-2020     04-12-2020   \n",
      "8897             04-12-2020     04-12-2020   \n",
      "8898             04-12-2020     04-12-2020   \n",
      "8899             04-12-2020     04-12-2020   \n",
      "8900             04-12-2020     04-12-2020   \n",
      "8901             04-12-2020     04-12-2020   \n",
      "8902             04-12-2020     04-12-2020   \n",
      "8903             04-12-2020     04-12-2020   \n",
      "8904             04-12-2020     04-12-2020   \n",
      "8905             04-12-2020     04-12-2020   \n",
      "\n",
      "                                           product_name product_main_category  \\\n",
      "8896                           Luca Fashion Girls Heels             Footwear    \n",
      "8897                            Shoetopia Girls Sandals             Footwear    \n",
      "8898                        SMART TRADERS Girls Sandals             Footwear    \n",
      "8899                                  Beanz Girls Flats             Footwear    \n",
      "8900                       Nova KT 728S Electric Kettle       Home & Kitchen    \n",
      "8901  Sinina Chanderi Embroidered Salwar Suit Dupatt...             Clothing    \n",
      "8902  Aarushi Fashion Chanderi Embroidered Salwar Su...             Clothing    \n",
      "8903  Ambika Lahenga Embroidered Lehenga, Choli and ...             Clothing    \n",
      "8904  Sinina Chanderi Embroidered Salwar Suit Dupatt...             Clothing    \n",
      "8905  Aarushi Fashion Silk Striped Salwar Suit Dupat...             Clothing    \n",
      "\n",
      "            product_subcategory                product_category_filter  \\\n",
      "8896   Kids' & Infant Footwear                              For Girls    \n",
      "8897   Kids' & Infant Footwear                              For Girls    \n",
      "8898   Kids' & Infant Footwear                              For Girls    \n",
      "8899   Kids' & Infant Footwear                              For Girls    \n",
      "8900        Kitchen Appliances    Electric Jug(heater)/Travel Kettles    \n",
      "8901          Women's Clothing                            Ethnic Wear    \n",
      "8902          Women's Clothing                            Ethnic Wear    \n",
      "8903          Women's Clothing                            Ethnic Wear    \n",
      "8904          Women's Clothing                            Ethnic Wear    \n",
      "8905          Women's Clothing                            Ethnic Wear    \n",
      "\n",
      "                      product_category_subfilter product_unique ID  \\\n",
      "8896                                    Sandals   SNDEHG3DNVBFGAT5   \n",
      "8897                                    Sandals   SNDEG7DRWSX8HFXZ   \n",
      "8898                                    Sandals   SNDEG7MZHHKZ58D2   \n",
      "8899                                    Sandals   SNDEG7DYVFWHZBC4   \n",
      "8900   Nova Electric Jug(heater)/Travel Kettles   EKTDG5C5QSADZZ8J   \n",
      "8901                                     Fabric   FABEGGHHDFMY8BZU   \n",
      "8902                                     Fabric   FABEG8GFDUWRSNU3   \n",
      "8903                             Lehenga Cholis   LEHEGGEHYN4G2RPW   \n",
      "8904                                     Fabric   FABEGGHHGSVCHGFV   \n",
      "8905                                     Fabric   FABEG8GYDAABECZH   \n",
      "\n",
      "      retail_price  discounted_price  product_rating            Brand  \\\n",
      "8896           999               499             4.0     LUCA FASHION   \n",
      "8897           499               399             4.0        SHOETOPIA   \n",
      "8898           999               499             5.0    SMART TRADERS   \n",
      "8899          1299              1299             3.0            BEANZ   \n",
      "8900          3195               699             3.6             NOVA   \n",
      "8901          2980              1490             3.0           SININA   \n",
      "8902          2600              1300             1.0  AARUSHI FASHION   \n",
      "8903         39992             24995             1.0   AMBIKA LAHENGA   \n",
      "8904          2000              1000             3.0           SININA   \n",
      "8905          2800              1350             4.0  AARUSHI FASHION   \n",
      "\n",
      "                                 product_specifications  \\\n",
      "8896  {\"product_specification\"=>[{\"key\"=>\"Occasion\",...   \n",
      "8897  {\"product_specification\"=>[{\"key\"=>\"Ideal For\"...   \n",
      "8898  {\"product_specification\"=>[{\"key\"=>\"Ideal For\"...   \n",
      "8899  {\"product_specification\"=>[{\"key\"=>\"Occasion\",...   \n",
      "8900  {\"product_specification\"=>[{\"key\"=>\"Brand\", \"v...   \n",
      "8901  {\"product_specification\"=>[{\"key\"=>\"Fabric\", \"...   \n",
      "8902  {\"product_specification\"=>[{\"key\"=>\"Fabric\", \"...   \n",
      "8903  {\"product_specification\"=>[{\"key\"=>\"Fabric\", \"...   \n",
      "8904  {\"product_specification\"=>[{\"key\"=>\"Fabric\", \"...   \n",
      "8905  {\"product_specification\"=>[{\"key\"=>\"Fabric\", \"...   \n",
      "\n",
      "                                            description  \n",
      "8896  Key Features of Luca Fashion Girls Heels Occas...  \n",
      "8897  Key Features of Shoetopia Girls Sandals Flats ...  \n",
      "8898  Key Features of SMART TRADERS Girls Sandals Oc...  \n",
      "8899  Key Features of Beanz Girls Flats Occasion: Ca...  \n",
      "8900  Specifications of Nova KT 728S Electric Kettle...  \n",
      "8901  Key Features of Sinina Chanderi Embroidered Sa...  \n",
      "8902  Key Features of Aarushi Fashion Chanderi Embro...  \n",
      "8903  Key Features of Ambika Lahenga Embroidered Leh...  \n",
      "8904  Key Features of Sinina Chanderi Embroidered Sa...  \n",
      "8905  Key Features of Aarushi Fashion Silk Striped S...  \n"
     ]
    }
   ],
   "source": [
    "#printing last 10 \n",
    "\n",
    "b = ECom_Data.tail(10)\n",
    "print (b)"
   ]
  },
  {
   "cell_type": "markdown",
   "id": "48baeda6",
   "metadata": {},
   "source": [
    "#### Ans 1 b)"
   ]
  },
  {
   "cell_type": "code",
   "execution_count": 15,
   "id": "0ac3ef5d",
   "metadata": {},
   "outputs": [
    {
     "name": "stdout",
     "output_type": "stream",
     "text": [
      "Total number of rows: 8906\n",
      "Total number of columns: 17\n"
     ]
    }
   ],
   "source": [
    "ECom_Data.shape\n",
    "total_rows = ECom_Data.shape[0]\n",
    "print(\"Total number of rows:\", total_rows)\n",
    "\n",
    "total_columns = ECom_Data.shape[1]\n",
    "print(\"Total number of columns:\", total_columns)"
   ]
  },
  {
   "cell_type": "code",
   "execution_count": 16,
   "id": "5fac6949",
   "metadata": {},
   "outputs": [
    {
     "name": "stdout",
     "output_type": "stream",
     "text": [
      "Total number of rows: 8906\n",
      "Total number of columns: 17\n"
     ]
    }
   ],
   "source": [
    "#Second method\n",
    "# Get the total number of rows\n",
    "total_rows = len(ECom_Data)\n",
    "\n",
    "# Get the total number of columns\n",
    "total_columns = len(ECom_Data.columns)\n",
    "\n",
    "print(\"Total number of rows:\", total_rows)\n",
    "print(\"Total number of columns:\", total_columns)"
   ]
  },
  {
   "cell_type": "markdown",
   "id": "6aaa54a0",
   "metadata": {},
   "source": [
    "#### Ans  1 c)"
   ]
  },
  {
   "cell_type": "code",
   "execution_count": 18,
   "id": "115627b2",
   "metadata": {},
   "outputs": [
    {
     "name": "stdout",
     "output_type": "stream",
     "text": [
      "<class 'pandas.core.frame.DataFrame'>\n",
      "RangeIndex: 8906 entries, 0 to 8905\n",
      "Data columns (total 17 columns):\n",
      " #   Column                      Non-Null Count  Dtype  \n",
      "---  ------                      --------------  -----  \n",
      " 0   Customer_uniq_id            8906 non-null   object \n",
      " 1   Region                      8906 non-null   object \n",
      " 2   Order_Date                  8906 non-null   object \n",
      " 3   Expected_Delivery_Date      8906 non-null   object \n",
      " 4   Delivered_Date              8906 non-null   object \n",
      " 5   product_name                8906 non-null   object \n",
      " 6   product_main_category       8906 non-null   object \n",
      " 7   product_subcategory         8906 non-null   object \n",
      " 8   product_category_filter     8906 non-null   object \n",
      " 9   product_category_subfilter  8906 non-null   object \n",
      " 10  product_unique ID           8906 non-null   object \n",
      " 11  retail_price                8906 non-null   int64  \n",
      " 12  discounted_price            8906 non-null   int64  \n",
      " 13  product_rating              8906 non-null   float64\n",
      " 14  Brand                       8906 non-null   object \n",
      " 15  product_specifications      8906 non-null   object \n",
      " 16  description                 8906 non-null   object \n",
      "dtypes: float64(1), int64(2), object(14)\n",
      "memory usage: 1.2+ MB\n",
      "Number of object data types in the DataFrame: 14\n"
     ]
    }
   ],
   "source": [
    "ECom_Data.info()\n",
    "# Select columns with object data type\n",
    "object_columns = ECom_Data.select_dtypes(include=['object'])\n",
    "\n",
    "# Get the count of object data types\n",
    "num_object_columns = object_columns.shape[1]\n",
    "\n",
    "print(\"Number of object data types in the DataFrame:\", num_object_columns)"
   ]
  },
  {
   "cell_type": "markdown",
   "id": "5e63573c",
   "metadata": {},
   "source": [
    "### Ans 1 d)"
   ]
  },
  {
   "cell_type": "markdown",
   "id": "8a083bb0",
   "metadata": {},
   "source": [
    "No, as per answer 1c , there are no Boolean data types."
   ]
  },
  {
   "cell_type": "markdown",
   "id": "cc5d76f1",
   "metadata": {},
   "source": [
    "<font color='blue'>\n",
    "    <font size = 5>\n",
    " Once you are familiar with the data, you may decide that not all features are of use to you and you may want to delete the non-informative features (columns)</font>"
   ]
  },
  {
   "cell_type": "markdown",
   "id": "90db65ce",
   "metadata": {},
   "source": [
    "## Q 2.\tEliminating the non-informative columns.\n",
    "## a)\tDrop the columns product_specifications and description. (2 marks) \n",
    "## b)\tWhich method or function is used to permanently delete the columns mentioned in part (a)? Write the code explicitly (2 marks)\n",
    "### Note: Use the markdown feature of Python to explain your answer.\n"
   ]
  },
  {
   "cell_type": "markdown",
   "id": "e0e7e762",
   "metadata": {},
   "source": [
    "### Ans 2 a)"
   ]
  },
  {
   "cell_type": "code",
   "execution_count": 20,
   "id": "35ad0821",
   "metadata": {},
   "outputs": [
    {
     "name": "stdout",
     "output_type": "stream",
     "text": [
      "                      Customer_uniq_id Region  Order_Date  \\\n",
      "0     e71017e224688489edfe856f2308806d  East   24-10-2021   \n",
      "1     6286847ee2da18f587503db49511c539  East   24-10-2021   \n",
      "2     0686fec9b70e5039583a38119ca0c835   West  24-10-2021   \n",
      "3     ea2406dc597bee2abb6b867fa668501f   West  24-10-2021   \n",
      "4     5935ed077915347dc695744df68c565c  East   03-09-2021   \n",
      "...                                ...    ...         ...   \n",
      "8901  90d30478255e23621e8929ed15c2f6e4  South  01-12-2020   \n",
      "8902  20a73e3f41490a73ceeba5f17658db8f   West  01-12-2020   \n",
      "8903  5c1554cd45f9d538c2c6947dbdd59c75  East   01-12-2020   \n",
      "8904  6b737a4deca1ed0e56c179e66036e994   West  01-12-2020   \n",
      "8905  a5235ac28d3d5487f54025f9d6b57433  North  01-12-2020   \n",
      "\n",
      "     Expected_Delivery_Date Delivered_Date  \\\n",
      "0                25-10-2021     25-10-2021   \n",
      "1                25-10-2021     25-10-2021   \n",
      "2                25-10-2021     25-10-2021   \n",
      "3                25-10-2021     25-10-2021   \n",
      "4                04-09-2021     04-09-2021   \n",
      "...                     ...            ...   \n",
      "8901             04-12-2020     04-12-2020   \n",
      "8902             04-12-2020     04-12-2020   \n",
      "8903             04-12-2020     04-12-2020   \n",
      "8904             04-12-2020     04-12-2020   \n",
      "8905             04-12-2020     04-12-2020   \n",
      "\n",
      "                                           product_name product_main_category  \\\n",
      "0     Indcrown Net Embroidered Semi-stitched Lehenga...             Clothing    \n",
      "1         Shopmania Music Band A5 Notebook Spiral Bound    Pens & Stationery    \n",
      "2         Shopmania Music Band A5 Notebook Spiral Bound    Pens & Stationery    \n",
      "3     Tiara Diaries 2016-2017 Designer LA Kaarta \"TA...    Pens & Stationery    \n",
      "4                   KAJCI Embroidered Women's Waistcoat             Clothing    \n",
      "...                                                 ...                   ...   \n",
      "8901  Sinina Chanderi Embroidered Salwar Suit Dupatt...             Clothing    \n",
      "8902  Aarushi Fashion Chanderi Embroidered Salwar Su...             Clothing    \n",
      "8903  Ambika Lahenga Embroidered Lehenga, Choli and ...             Clothing    \n",
      "8904  Sinina Chanderi Embroidered Salwar Suit Dupatt...             Clothing    \n",
      "8905  Aarushi Fashion Silk Striped Salwar Suit Dupat...             Clothing    \n",
      "\n",
      "        product_subcategory product_category_filter  \\\n",
      "0         Women's Clothing             Ethnic Wear    \n",
      "1      Diaries & Notebooks               Notebooks    \n",
      "2      Diaries & Notebooks               Notebooks    \n",
      "3      Diaries & Notebooks               Notebooks    \n",
      "4         Women's Clothing             Formal Wear    \n",
      "...                     ...                     ...   \n",
      "8901      Women's Clothing             Ethnic Wear    \n",
      "8902      Women's Clothing             Ethnic Wear    \n",
      "8903      Women's Clothing             Ethnic Wear    \n",
      "8904      Women's Clothing             Ethnic Wear    \n",
      "8905      Women's Clothing             Ethnic Wear    \n",
      "\n",
      "     product_category_subfilter product_unique ID  retail_price  \\\n",
      "0                       Fabric   FABEJX2NHNKCYHKA           999   \n",
      "1                     Designer   DIAEJ6Z8BEDTGGYY           499   \n",
      "2                     Designer   DIAEJ6Z8KQFWDEGH           499   \n",
      "3                     Designer   DIAEJ8FGHZ3K86JU          1000   \n",
      "4                   Waistcoats   WSCEG2FYDYFDSVZ6          1200   \n",
      "...                         ...               ...           ...   \n",
      "8901                    Fabric   FABEGGHHDFMY8BZU          2980   \n",
      "8902                    Fabric   FABEG8GFDUWRSNU3          2600   \n",
      "8903            Lehenga Cholis   LEHEGGEHYN4G2RPW         39992   \n",
      "8904                    Fabric   FABEGGHHGSVCHGFV          2000   \n",
      "8905                    Fabric   FABEG8GYDAABECZH          2800   \n",
      "\n",
      "      discounted_price  product_rating            Brand  \n",
      "0                  699             4.0         INDCROWN  \n",
      "1                  275             1.0        SHOPMANIA  \n",
      "2                  275             2.0        SHOPMANIA  \n",
      "3                  837             3.0    TIARA DIARIES  \n",
      "4                  699             5.0            KAJCI  \n",
      "...                ...             ...              ...  \n",
      "8901              1490             3.0           SININA  \n",
      "8902              1300             1.0  AARUSHI FASHION  \n",
      "8903             24995             1.0   AMBIKA LAHENGA  \n",
      "8904              1000             3.0           SININA  \n",
      "8905              1350             4.0  AARUSHI FASHION  \n",
      "\n",
      "[8906 rows x 15 columns]\n",
      "<class 'pandas.core.frame.DataFrame'>\n",
      "RangeIndex: 8906 entries, 0 to 8905\n",
      "Data columns (total 15 columns):\n",
      " #   Column                      Non-Null Count  Dtype  \n",
      "---  ------                      --------------  -----  \n",
      " 0   Customer_uniq_id            8906 non-null   object \n",
      " 1   Region                      8906 non-null   object \n",
      " 2   Order_Date                  8906 non-null   object \n",
      " 3   Expected_Delivery_Date      8906 non-null   object \n",
      " 4   Delivered_Date              8906 non-null   object \n",
      " 5   product_name                8906 non-null   object \n",
      " 6   product_main_category       8906 non-null   object \n",
      " 7   product_subcategory         8906 non-null   object \n",
      " 8   product_category_filter     8906 non-null   object \n",
      " 9   product_category_subfilter  8906 non-null   object \n",
      " 10  product_unique ID           8906 non-null   object \n",
      " 11  retail_price                8906 non-null   int64  \n",
      " 12  discounted_price            8906 non-null   int64  \n",
      " 13  product_rating              8906 non-null   float64\n",
      " 14  Brand                       8906 non-null   object \n",
      "dtypes: float64(1), int64(2), object(12)\n",
      "memory usage: 1.0+ MB\n",
      "None\n"
     ]
    }
   ],
   "source": [
    "# Specify the columns to drop\n",
    "columns_to_drop = ['product_specifications', 'description']\n",
    "\n",
    "# Drop the specified columns\n",
    "df = ECom_Data.drop(columns=columns_to_drop)\n",
    "\n",
    "# Print the resulting DataFrame\n",
    "print(df)\n",
    "\n",
    "print(df.info())"
   ]
  },
  {
   "cell_type": "markdown",
   "id": "e6159f6a",
   "metadata": {},
   "source": [
    "### Ans 2 b)"
   ]
  },
  {
   "cell_type": "markdown",
   "id": "f9c575cf",
   "metadata": {},
   "source": [
    "Using the same method drop mentioned in 2a, and also including 'inplace = True' will delete the specific columns permanently."
   ]
  },
  {
   "cell_type": "code",
   "execution_count": 36,
   "id": "93d902f9",
   "metadata": {},
   "outputs": [
    {
     "name": "stdout",
     "output_type": "stream",
     "text": [
      "<class 'pandas.core.frame.DataFrame'>\n",
      "RangeIndex: 8906 entries, 0 to 8905\n",
      "Data columns (total 15 columns):\n",
      " #   Column                      Non-Null Count  Dtype  \n",
      "---  ------                      --------------  -----  \n",
      " 0   Customer_uniq_id            8906 non-null   object \n",
      " 1   Region                      8906 non-null   object \n",
      " 2   Order_Date                  8906 non-null   object \n",
      " 3   Expected_Delivery_Date      8906 non-null   object \n",
      " 4   Delivered_Date              8906 non-null   object \n",
      " 5   product_name                8906 non-null   object \n",
      " 6   product_main_category       8906 non-null   object \n",
      " 7   product_subcategory         8906 non-null   object \n",
      " 8   product_category_filter     8906 non-null   object \n",
      " 9   product_category_subfilter  8906 non-null   object \n",
      " 10  product_unique ID           8906 non-null   object \n",
      " 11  retail_price                8906 non-null   int64  \n",
      " 12  discounted_price            8906 non-null   int64  \n",
      " 13  product_rating              8906 non-null   float64\n",
      " 14  Brand                       8906 non-null   object \n",
      "dtypes: float64(1), int64(2), object(12)\n",
      "memory usage: 1.0+ MB\n",
      "                      Customer_uniq_id Region  Order_Date  \\\n",
      "0     e71017e224688489edfe856f2308806d  East   24-10-2021   \n",
      "1     6286847ee2da18f587503db49511c539  East   24-10-2021   \n",
      "2     0686fec9b70e5039583a38119ca0c835   West  24-10-2021   \n",
      "3     ea2406dc597bee2abb6b867fa668501f   West  24-10-2021   \n",
      "4     5935ed077915347dc695744df68c565c  East   03-09-2021   \n",
      "...                                ...    ...         ...   \n",
      "8901  90d30478255e23621e8929ed15c2f6e4  South  01-12-2020   \n",
      "8902  20a73e3f41490a73ceeba5f17658db8f   West  01-12-2020   \n",
      "8903  5c1554cd45f9d538c2c6947dbdd59c75  East   01-12-2020   \n",
      "8904  6b737a4deca1ed0e56c179e66036e994   West  01-12-2020   \n",
      "8905  a5235ac28d3d5487f54025f9d6b57433  North  01-12-2020   \n",
      "\n",
      "     Expected_Delivery_Date Delivered_Date  \\\n",
      "0                25-10-2021     25-10-2021   \n",
      "1                25-10-2021     25-10-2021   \n",
      "2                25-10-2021     25-10-2021   \n",
      "3                25-10-2021     25-10-2021   \n",
      "4                04-09-2021     04-09-2021   \n",
      "...                     ...            ...   \n",
      "8901             04-12-2020     04-12-2020   \n",
      "8902             04-12-2020     04-12-2020   \n",
      "8903             04-12-2020     04-12-2020   \n",
      "8904             04-12-2020     04-12-2020   \n",
      "8905             04-12-2020     04-12-2020   \n",
      "\n",
      "                                           product_name product_main_category  \\\n",
      "0     Indcrown Net Embroidered Semi-stitched Lehenga...             Clothing    \n",
      "1         Shopmania Music Band A5 Notebook Spiral Bound    Pens & Stationery    \n",
      "2         Shopmania Music Band A5 Notebook Spiral Bound    Pens & Stationery    \n",
      "3     Tiara Diaries 2016-2017 Designer LA Kaarta \"TA...    Pens & Stationery    \n",
      "4                   KAJCI Embroidered Women's Waistcoat             Clothing    \n",
      "...                                                 ...                   ...   \n",
      "8901  Sinina Chanderi Embroidered Salwar Suit Dupatt...             Clothing    \n",
      "8902  Aarushi Fashion Chanderi Embroidered Salwar Su...             Clothing    \n",
      "8903  Ambika Lahenga Embroidered Lehenga, Choli and ...             Clothing    \n",
      "8904  Sinina Chanderi Embroidered Salwar Suit Dupatt...             Clothing    \n",
      "8905  Aarushi Fashion Silk Striped Salwar Suit Dupat...             Clothing    \n",
      "\n",
      "        product_subcategory product_category_filter  \\\n",
      "0         Women's Clothing             Ethnic Wear    \n",
      "1      Diaries & Notebooks               Notebooks    \n",
      "2      Diaries & Notebooks               Notebooks    \n",
      "3      Diaries & Notebooks               Notebooks    \n",
      "4         Women's Clothing             Formal Wear    \n",
      "...                     ...                     ...   \n",
      "8901      Women's Clothing             Ethnic Wear    \n",
      "8902      Women's Clothing             Ethnic Wear    \n",
      "8903      Women's Clothing             Ethnic Wear    \n",
      "8904      Women's Clothing             Ethnic Wear    \n",
      "8905      Women's Clothing             Ethnic Wear    \n",
      "\n",
      "     product_category_subfilter product_unique ID  retail_price  \\\n",
      "0                       Fabric   FABEJX2NHNKCYHKA           999   \n",
      "1                     Designer   DIAEJ6Z8BEDTGGYY           499   \n",
      "2                     Designer   DIAEJ6Z8KQFWDEGH           499   \n",
      "3                     Designer   DIAEJ8FGHZ3K86JU          1000   \n",
      "4                   Waistcoats   WSCEG2FYDYFDSVZ6          1200   \n",
      "...                         ...               ...           ...   \n",
      "8901                    Fabric   FABEGGHHDFMY8BZU          2980   \n",
      "8902                    Fabric   FABEG8GFDUWRSNU3          2600   \n",
      "8903            Lehenga Cholis   LEHEGGEHYN4G2RPW         39992   \n",
      "8904                    Fabric   FABEGGHHGSVCHGFV          2000   \n",
      "8905                    Fabric   FABEG8GYDAABECZH          2800   \n",
      "\n",
      "      discounted_price  product_rating            Brand  \n",
      "0                  699             4.0         INDCROWN  \n",
      "1                  275             1.0        SHOPMANIA  \n",
      "2                  275             2.0        SHOPMANIA  \n",
      "3                  837             3.0    TIARA DIARIES  \n",
      "4                  699             5.0            KAJCI  \n",
      "...                ...             ...              ...  \n",
      "8901              1490             3.0           SININA  \n",
      "8902              1300             1.0  AARUSHI FASHION  \n",
      "8903             24995             1.0   AMBIKA LAHENGA  \n",
      "8904              1000             3.0           SININA  \n",
      "8905              1350             4.0  AARUSHI FASHION  \n",
      "\n",
      "[8906 rows x 15 columns]\n"
     ]
    }
   ],
   "source": [
    "#Code\n",
    "# Specify the columns to drop\n",
    "columns_to_drop = ['product_specifications', 'description']\n",
    "\n",
    "# Drop the specified columns\n",
    "df1 = ECom_Data.copy()\n",
    "df1.drop(columns=columns_to_drop, inplace=True)\n",
    "# Print the resulting DataFrame\n",
    "df1.info()\n",
    "print(df1)\n"
   ]
  },
  {
   "cell_type": "markdown",
   "id": "cde421e0",
   "metadata": {},
   "source": [
    "<font color='blue'>\n",
    "    <font size = 5>\n",
    "        The next steps in this project involves summarization of data at various levels and visualization. Apparently, such simple steps are very useful to get an overall sense of the data.\n",
    "    </font>"
   ]
  },
  {
   "cell_type": "markdown",
   "id": "41c30ad7",
   "metadata": {},
   "source": [
    "## Q 3. Here we summarize the data at Brand level.\n",
    "## a) How many unique Brand are there? (2 marks)\n",
    "## b) Note that each Brand contains multiple products. Show the average product_rating within each Brand (2 marks)\n"
   ]
  },
  {
   "cell_type": "markdown",
   "id": "beb3f83f",
   "metadata": {},
   "source": [
    "### Ans 3 a)"
   ]
  },
  {
   "cell_type": "code",
   "execution_count": 46,
   "id": "41dcb79f",
   "metadata": {},
   "outputs": [
    {
     "name": "stdout",
     "output_type": "stream",
     "text": [
      "Unique values in the 'Category' column: ['INDCROWN' 'SHOPMANIA' 'TIARA DIARIES' ... 'SININA' 'AARUSHI FASHION'\n",
      " 'AMBIKA LAHENGA']\n"
     ]
    }
   ],
   "source": [
    "unique_values = ECom_Data['Brand'].unique()\n",
    "# Print the unique values\n",
    "print(\"Unique values in the 'Category' column:\", unique_values)"
   ]
  },
  {
   "cell_type": "markdown",
   "id": "5083d866",
   "metadata": {},
   "source": [
    "### Ans 3 b)"
   ]
  },
  {
   "cell_type": "code",
   "execution_count": 48,
   "id": "10018c2c",
   "metadata": {},
   "outputs": [
    {
     "name": "stdout",
     "output_type": "stream",
     "text": [
      "Brand\n",
      "1OAK           1.500000\n",
      "3A AUTOCARE    3.268293\n",
      "3D MAT         3.000000\n",
      "3KFACTORY      2.000000\n",
      "4D             3.600000\n",
      "                 ...   \n",
      "ZORDEN         4.000000\n",
      "ZOSIGN         3.400000\n",
      "ZRESTHA        1.000000\n",
      "ZYXEL          3.333333\n",
      " TARKAN        5.000000\n",
      "Name: product_rating, Length: 2484, dtype: float64\n"
     ]
    }
   ],
   "source": [
    "average_ratings = ECom_Data.groupby('Brand')['product_rating'].mean()\n",
    "\n",
    "# Print the result\n",
    "print(average_ratings)"
   ]
  },
  {
   "cell_type": "markdown",
   "id": "bbf162af",
   "metadata": {},
   "source": [
    "## Q 4. Next we study the main categories of the products.\n",
    "\n",
    "## a) Create an appropriate plot to show the count of items ordered for each product_main_category. (6 marks).\n",
    "\n",
    "### Hint: Create a bar chart titled \"Product Category type\" where product_main_category are on x-axis and counts are on y-axis.\n",
    "\n",
    "### Note: Both axis labels, i.e. the names of the product_main_category and counts must be clearly legible. \n",
    "\n",
    "## b) From the plot identify for which two product_main_category(s)  maximum and minimum orders were placed. (2 marks)\n",
    "\n",
    "## c) Write code to print out the top 5 product_main_category(s)  in descending order? (3 marks"
   ]
  },
  {
   "cell_type": "markdown",
   "id": "36c72928",
   "metadata": {},
   "source": [
    "### Ans 4 a)"
   ]
  },
  {
   "cell_type": "code",
   "execution_count": 59,
   "id": "f60dd2c1",
   "metadata": {},
   "outputs": [
    {
     "data": {
      "image/png": "[encoded data removed]",
      "text/plain": [
       "<Figure size 1200x800 with 1 Axes>"
      ]
     },
     "metadata": {},
     "output_type": "display_data"
    }
   ],
   "source": [
    "# Calculate the count of items ordered for each product_main_category\n",
    "category_counts = ECom_Data['product_main_category'].value_counts()\n",
    "\n",
    "# Create a bar chart\n",
    "plt.figure(figsize=(12, 8))\n",
    "category_counts.plot(kind='bar', color='skyblue')\n",
    "plt.title(\"Product Category type\")\n",
    "plt.xlabel(\"Product Main Category\")\n",
    "plt.ylabel(\"Count of Items Ordered\")\n",
    "#plt.xticks(rotation=0)  # Rotates the x-axis labels for better legibility\n",
    "\n",
    "# Display the plot\n",
    "plt.show()"
   ]
  },
  {
   "cell_type": "markdown",
   "id": "13a5b355",
   "metadata": {},
   "source": [
    "### Ans 4 b)"
   ]
  },
  {
   "cell_type": "code",
   "execution_count": 63,
   "id": "24d3f75c",
   "metadata": {},
   "outputs": [
    {
     "name": "stdout",
     "output_type": "stream",
     "text": [
      "Product Main Category with Maximum Orders: Clothing \n",
      "Product Main Category with Minimum Orders: Wearable Smart Devices \n"
     ]
    }
   ],
   "source": [
    "# Assuming you have already created the category_counts Series as mentioned before\n",
    "\n",
    "# Find the product_main_category with maximum orders\n",
    "max_category = category_counts.idxmax()\n",
    "\n",
    "# Find the product_main_category with minimum orders\n",
    "min_category = category_counts.idxmin()\n",
    "\n",
    "print(\"Product Main Category with Maximum Orders:\", max_category)\n",
    "print(\"Product Main Category with Minimum Orders:\", min_category)\n"
   ]
  },
  {
   "cell_type": "markdown",
   "id": "4ea60c92",
   "metadata": {},
   "source": [
    "### Ans 4 c)"
   ]
  },
  {
   "cell_type": "code",
   "execution_count": 64,
   "id": "7f704116",
   "metadata": {},
   "outputs": [
    {
     "name": "stdout",
     "output_type": "stream",
     "text": [
      "Top 5 Product Main Categories (in descending order):\n",
      "product_main_category\n",
      "Clothing                       2943\n",
      "Mobiles & Accessories          1084\n",
      "Automotive                     1001\n",
      "Home Decor & Festive Needs      727\n",
      "Computers                       558\n",
      "Name: count, dtype: int64\n"
     ]
    }
   ],
   "source": [
    "# Sort the category_counts Series in descending order and select the top 5 categories\n",
    "top_5_categories = category_counts.sort_values(ascending=False).head(5)\n",
    "\n",
    "print(\"Top 5 Product Main Categories (in descending order):\")\n",
    "print(top_5_categories)\n"
   ]
  },
  {
   "cell_type": "markdown",
   "id": "a9f81605",
   "metadata": {},
   "source": [
    "<font color='blue'>\n",
    "    <font size = 5>\n",
    "    In E-commerce, both the retailers (here brands) and the company have to make profit to sustain in the business. \n",
    "    The E-Commerce company has the following rule for computing their own revenue: </font> \n",
    "    \n",
    "####     The company charges  \n",
    "####  (i) 25% on the orders having final price (discounted price) greater than 600\n",
    "\n",
    "#### (ii) 15% on the orders having final price (discounted price) greater than 350 but less than or equal to 600\n",
    "\n",
    "#### (iii) 10% on the orders having final price (discounted price) greater than 100 but less than or equal to 350\n",
    "\n",
    "#### (iv) Otherwise, 5% on the final price (discounted price)    </font> "
   ]
  },
  {
   "cell_type": "markdown",
   "id": "0f255fea",
   "metadata": {},
   "source": [
    "## Q 5. Find the Total Revenue generated by the E-Commerce company over all orders placed. (6 marks)\n",
    "\n",
    "#### Hint: Calculate revenue of E-commerce company using the conditions mentioned above and then do the total (sum) of all to get total Revenue. "
   ]
  },
  {
   "cell_type": "markdown",
   "id": "1f6b8028",
   "metadata": {},
   "source": [
    "### Ans 5"
   ]
  },
  {
   "cell_type": "code",
   "execution_count": 65,
   "id": "c62d888f",
   "metadata": {},
   "outputs": [
    {
     "name": "stdout",
     "output_type": "stream",
     "text": [
      "Total Revenue Generated by the E-Commerce Company: 2217486.85\n"
     ]
    }
   ],
   "source": [
    "# Function to calculate revenue based on the provided conditions\n",
    "def calculate_revenue(discounted_price):\n",
    "    if discounted_price > 600:\n",
    "        return 0.25 * discounted_price  # 25% revenue for orders > 600\n",
    "    elif 350 < discounted_price <= 600:\n",
    "        return 0.15 * discounted_price  # 15% revenue for orders between 350 and 600\n",
    "    elif 100 < discounted_price <= 350:\n",
    "        return 0.10 * discounted_price  # 10% revenue for orders between 100 and 350\n",
    "    else:\n",
    "        return 0.05 * discounted_price  # 5% revenue for other orders\n",
    "\n",
    "# Calculate revenue for each order and create a new 'revenue' column\n",
    "ECom_Data['revenue'] = ECom_Data['discounted_price'].apply(calculate_revenue)\n",
    "\n",
    "# Calculate the total revenue generated by the E-Commerce company\n",
    "total_revenue = ECom_Data['revenue'].sum()\n",
    "\n",
    "print(\"Total Revenue Generated by the E-Commerce Company:\", total_revenue)"
   ]
  },
  {
   "cell_type": "markdown",
   "id": "9161ca8c",
   "metadata": {},
   "source": [
    "<font color='blue'>\n",
    "    <font size = 5>\n",
    "    Now you need to find the revenue for each retailer (Brand)\n",
    "    </font>"
   ]
  },
  {
   "cell_type": "markdown",
   "id": "73dd23c3",
   "metadata": {},
   "source": [
    "## Q6.Calculate the total BrandRevenue and list the top 10 Brand having maximum revenue in descending order (6 marks)\n",
    "#### Hint: Total BrandRevenue is BrandRevenue which is generated after all the deductions. Also, BrandRevenue is different from the E-Commerce company's revenue.\n",
    "#### Brand Revenue is the discounted price minus the Revenue (generated using the conditions given above Q5)\n"
   ]
  },
  {
   "cell_type": "markdown",
   "id": "3514fa79",
   "metadata": {},
   "source": [
    "### Ans 6"
   ]
  },
  {
   "cell_type": "code",
   "execution_count": 66,
   "id": "437c69b5",
   "metadata": {},
   "outputs": [
    {
     "name": "stdout",
     "output_type": "stream",
     "text": [
      "Total BrandRevenue by Brand:\n",
      "Brand\n",
      "1OAK            1015.40\n",
      "3A AUTOCARE    55647.90\n",
      "3D MAT          5249.25\n",
      "3KFACTORY        156.60\n",
      "4D              5961.00\n",
      "                 ...   \n",
      "ZORDEN          2099.25\n",
      "ZOSIGN          5246.25\n",
      "ZRESTHA          674.25\n",
      "ZYXEL          26544.00\n",
      " TARKAN          314.10\n",
      "Name: BrandRevenue, Length: 2484, dtype: float64\n",
      "\n",
      "Top 10 Brands with Maximum BrandRevenue:\n",
      "Brand\n",
      "ALLURE AUTO     498464.25\n",
      "GAGA            237390.00\n",
      "SLIM            212062.60\n",
      "DAILYOBJECTS    181980.00\n",
      "DIVINITI        143115.00\n",
      "THELOSTPUPPY    127287.50\n",
      "REGULAR         126536.50\n",
      "ENTHOPIA        123146.25\n",
      "ASUS             99241.50\n",
      "SPRINGWEL        88978.50\n",
      "Name: BrandRevenue, dtype: float64\n"
     ]
    }
   ],
   "source": [
    "# Calculate revenue for each order and create a new 'revenue' column\n",
    "ECom_Data['revenue'] = ECom_Data['discounted_price'].apply(calculate_revenue)\n",
    "\n",
    "# Calculate BrandRevenue for each order\n",
    "ECom_Data['BrandRevenue'] = ECom_Data['discounted_price'] - ECom_Data['revenue']\n",
    "\n",
    "# Calculate the total BrandRevenue for each Brand\n",
    "brand_revenue = ECom_Data.groupby('Brand')['BrandRevenue'].sum()\n",
    "\n",
    "# List the top 10 Brands with maximum BrandRevenue in descending order\n",
    "top_10_brands = brand_revenue.sort_values(ascending=False).head(10)\n",
    "\n",
    "print(\"Total BrandRevenue by Brand:\")\n",
    "print(brand_revenue)\n",
    "print(\"\\nTop 10 Brands with Maximum BrandRevenue:\")\n",
    "print(top_10_brands)"
   ]
  },
  {
   "cell_type": "markdown",
   "id": "2a2bbd83",
   "metadata": {},
   "source": [
    "<font color='blue'>\n",
    "    <font size = 5>\n",
    "Let us now investigate multiple features for each product to determine any pattern.\n",
    "</font>"
   ]
  },
  {
   "cell_type": "markdown",
   "id": "1aa1834b",
   "metadata": {},
   "source": [
    "## Q 7. Compare prices for each product.\n",
    "\n",
    "## a)\tDraw boxplots of retail_price & discounted_price. (3 marks)\n",
    "\n",
    "## b)\t Are there any outliers? (Yes/No) (1mark)\n",
    "\n",
    "## c)\tCreate a scatterplot of retail_price (x-axis) and discounted_price (y-axis) (3 marks)\n"
   ]
  },
  {
   "cell_type": "markdown",
   "id": "d5aae861",
   "metadata": {},
   "source": [
    "### Ans 7 a)"
   ]
  },
  {
   "cell_type": "code",
   "execution_count": 70,
   "id": "510fd4d0",
   "metadata": {},
   "outputs": [
    {
     "data": {
      "image/png": "[encoded data removed]",
      "text/plain": [
       "<Figure size 1200x500 with 2 Axes>"
      ]
     },
     "metadata": {},
     "output_type": "display_data"
    }
   ],
   "source": [
    "# Create boxplots for retail_price and discounted_price\n",
    "plt.figure(figsize=(12, 5))\n",
    "plt.subplot(1, 2, 1)\n",
    "plt.boxplot(ECom_Data['retail_price'])\n",
    "plt.title('Boxplot of Retail Price')\n",
    "plt.xlabel('Retail Price')\n",
    "plt.ylabel('Price')\n",
    "\n",
    "plt.subplot(1, 2, 2)\n",
    "plt.boxplot(ECom_Data['discounted_price'])\n",
    "plt.title('Boxplot of Discounted Price')\n",
    "plt.xlabel('Discounted Price')\n",
    "plt.ylabel('Price')\n",
    "\n",
    "plt.tight_layout()\n",
    "plt.show()"
   ]
  },
  {
   "cell_type": "markdown",
   "id": "78b92e7c",
   "metadata": {},
   "source": [
    "### Ans 7 b)"
   ]
  },
  {
   "cell_type": "markdown",
   "id": "0bf89bec",
   "metadata": {},
   "source": [
    "Yes"
   ]
  },
  {
   "cell_type": "markdown",
   "id": "0389c9b8",
   "metadata": {},
   "source": [
    "### Ans 7 c)"
   ]
  },
  {
   "cell_type": "code",
   "execution_count": 71,
   "id": "d8c44be9",
   "metadata": {},
   "outputs": [
    {
     "data": {
      "image/png": "[encoded data removed]",
      "text/plain": [
       "<Figure size 800x600 with 1 Axes>"
      ]
     },
     "metadata": {},
     "output_type": "display_data"
    }
   ],
   "source": [
    "# Create a scatterplot of retail_price vs. discounted_price\n",
    "plt.figure(figsize=(8, 6))\n",
    "plt.scatter(ECom_Data['retail_price'], ECom_Data['discounted_price'])\n",
    "plt.title('Scatterplot of Retail Price vs. Discounted Price')\n",
    "plt.xlabel('Retail Price')\n",
    "plt.ylabel('Discounted Price')\n",
    "plt.show()\n"
   ]
  },
  {
   "cell_type": "markdown",
   "id": "3bc47f55",
   "metadata": {},
   "source": [
    "<font color='blue'>\n",
    "    <font size = 5>\n",
    "    The next steps will enable to study brand-level information.\n",
    "    </font>"
   ]
  },
  {
   "cell_type": "markdown",
   "id": "b9bd00f7",
   "metadata": {},
   "source": [
    "## Q 8. Create a new dataframe to include the Brand specific information as stated:\n",
    "## i.\ttotal number of orders placed per Brand\n",
    "## ii.\ttotal retail_price per Brand\n",
    "## iii.\ttotal discounted_price per Brand, and \n",
    "## iv.\ttotal BrandRevenue generated per Brand. \n",
    "\n",
    "## Also, draw a pairplot using these four features. (6 marks)\n"
   ]
  },
  {
   "cell_type": "markdown",
   "id": "8f83cea9",
   "metadata": {},
   "source": [
    "### Ans 8"
   ]
  },
  {
   "cell_type": "code",
   "execution_count": 67,
   "id": "ae749847",
   "metadata": {},
   "outputs": [
    {
     "name": "stderr",
     "output_type": "stream",
     "text": [
      "c:\\Users\\debot\\anaconda3\\Lib\\site-packages\\seaborn\\axisgrid.py:118: UserWarning: The figure layout has changed to tight\n",
      "  self._figure.tight_layout(*args, **kwargs)\n"
     ]
    },
    {
     "data": {
      "image/png": "[encoded data removed]",
      "text/plain": [
       "<Figure size 1000x1000 with 20 Axes>"
      ]
     },
     "metadata": {},
     "output_type": "display_data"
    },
    {
     "name": "stdout",
     "output_type": "stream",
     "text": [
      "Brand-Specific Information:\n",
      "            Brand  total_orders  total_retail_price  total_discounted_price  \\\n",
      "0            1OAK             2                1698                    1274   \n",
      "1     3A AUTOCARE            41              107059                   74134   \n",
      "2          3D MAT             1                7250                    6999   \n",
      "3       3KFACTORY             1                 399                     174   \n",
      "4              4D             5               17500                    7948   \n",
      "...           ...           ...                 ...                     ...   \n",
      "2479       ZORDEN             1                3999                    2799   \n",
      "2480       ZOSIGN             5                6995                    6995   \n",
      "2481      ZRESTHA             1                1999                     899   \n",
      "2482        ZYXEL             9               64742                   35392   \n",
      "2483       TARKAN             1                1999                     349   \n",
      "\n",
      "      total_brand_revenue  \n",
      "0                  258.60  \n",
      "1                18486.10  \n",
      "2                 1749.75  \n",
      "3                   17.40  \n",
      "4                 1987.00  \n",
      "...                   ...  \n",
      "2479               699.75  \n",
      "2480              1748.75  \n",
      "2481               224.75  \n",
      "2482              8848.00  \n",
      "2483                34.90  \n",
      "\n",
      "[2484 rows x 5 columns]\n"
     ]
    }
   ],
   "source": [
    "# Calculate BrandRevenue for each order\n",
    "ECom_Data['BrandRevenue'] = ECom_Data['discounted_price'].apply(calculate_revenue)\n",
    "\n",
    "# Create a new DataFrame with Brand-specific information\n",
    "brand_info = ECom_Data.groupby('Brand').agg(\n",
    "    total_orders=('Brand', 'count'),\n",
    "    total_retail_price=('retail_price', 'sum'),\n",
    "    total_discounted_price=('discounted_price', 'sum'),\n",
    "    total_brand_revenue=('BrandRevenue', 'sum')\n",
    ").reset_index()\n",
    "\n",
    "# Draw a pairplot using the four features\n",
    "sns.pairplot(brand_info, diag_kind='kde')\n",
    "plt.show()\n",
    "\n",
    "print(\"Brand-Specific Information:\")\n",
    "print(brand_info)"
   ]
  },
  {
   "cell_type": "markdown",
   "id": "ecec83f4",
   "metadata": {},
   "source": [
    "<font color='blue'>\n",
    "    <font size = 5>\n",
    "    The E-Commerce company operate in multiple regions. It is important to understand its performance in each region.\n",
    "    </font>"
   ]
  },
  {
   "cell_type": "markdown",
   "id": "dd09b8aa",
   "metadata": {},
   "source": [
    "## Q 9.Compare performance regionwise\n",
    "\n",
    "## a)\tDraw a lineplot for the monthly Revenue of E-Commerce Company for each region separately.  (4 marks) \n",
    "\n",
    "## b)\tIdentify the best and the worst performing months for each region. (2 marks)\n",
    "\n",
    "#### Note: Only those days with actual orders(Order_Date) placed are present in the dataset. Assuming there were no orders on other days. Also, show Month and Year on x-axis."
   ]
  },
  {
   "cell_type": "markdown",
   "id": "e6d64aea",
   "metadata": {},
   "source": [
    "### Ans 9 a)"
   ]
  },
  {
   "cell_type": "code",
   "execution_count": 3,
   "id": "d9a4f534",
   "metadata": {},
   "outputs": [
    {
     "ename": "FileNotFoundError",
     "evalue": "[Errno 2] No such file or directory: 'Ecom.data'",
     "output_type": "error",
     "traceback": [
      "\u001b[1;31m---------------------------------------------------------------------------\u001b[0m",
      "\u001b[1;31mFileNotFoundError\u001b[0m                         Traceback (most recent call last)",
      "\u001b[1;32mc:\\Users\\debot\\OneDrive\\Desktop\\Debottam_29.10.23.ipynb.ipynb Cell 61\u001b[0m line \u001b[0;36m2\n\u001b[0;32m      <a href='vscode-notebook-cell:/c%3A/Users/debot/OneDrive/Desktop/Debottam_29.10.23.ipynb.ipynb#Y114sZmlsZQ%3D%3D?line=0'>1</a>\u001b[0m \u001b[39mimport\u001b[39;00m \u001b[39mpandas\u001b[39;00m \u001b[39mas\u001b[39;00m \u001b[39mpd\u001b[39;00m\n\u001b[1;32m----> <a href='vscode-notebook-cell:/c%3A/Users/debot/OneDrive/Desktop/Debottam_29.10.23.ipynb.ipynb#Y114sZmlsZQ%3D%3D?line=1'>2</a>\u001b[0m data \u001b[39m=\u001b[39m pd\u001b[39m.\u001b[39mread_csv(\u001b[39m'\u001b[39m\u001b[39mEcom.data\u001b[39m\u001b[39m'\u001b[39m)\n\u001b[0;32m      <a href='vscode-notebook-cell:/c%3A/Users/debot/OneDrive/Desktop/Debottam_29.10.23.ipynb.ipynb#Y114sZmlsZQ%3D%3D?line=2'>3</a>\u001b[0m data[\u001b[39m'\u001b[39m\u001b[39mOrder_Date\u001b[39m\u001b[39m'\u001b[39m] \u001b[39m=\u001b[39m pd\u001b[39m.\u001b[39mto_datetime(data[\u001b[39m'\u001b[39m\u001b[39mOrder_Date\u001b[39m\u001b[39m'\u001b[39m])\n\u001b[0;32m      <a href='vscode-notebook-cell:/c%3A/Users/debot/OneDrive/Desktop/Debottam_29.10.23.ipynb.ipynb#Y114sZmlsZQ%3D%3D?line=3'>4</a>\u001b[0m data[\u001b[39m'\u001b[39m\u001b[39mMonth\u001b[39m\u001b[39m'\u001b[39m] \u001b[39m=\u001b[39m data[\u001b[39m'\u001b[39m\u001b[39mOrder_Date\u001b[39m\u001b[39m'\u001b[39m]\u001b[39m.\u001b[39mdt\u001b[39m.\u001b[39mmonth\n",
      "File \u001b[1;32mc:\\Users\\debot\\anaconda3\\Lib\\site-packages\\pandas\\io\\parsers\\readers.py:912\u001b[0m, in \u001b[0;36mread_csv\u001b[1;34m(filepath_or_buffer, sep, delimiter, header, names, index_col, usecols, dtype, engine, converters, true_values, false_values, skipinitialspace, skiprows, skipfooter, nrows, na_values, keep_default_na, na_filter, verbose, skip_blank_lines, parse_dates, infer_datetime_format, keep_date_col, date_parser, date_format, dayfirst, cache_dates, iterator, chunksize, compression, thousands, decimal, lineterminator, quotechar, quoting, doublequote, escapechar, comment, encoding, encoding_errors, dialect, on_bad_lines, delim_whitespace, low_memory, memory_map, float_precision, storage_options, dtype_backend)\u001b[0m\n\u001b[0;32m    899\u001b[0m kwds_defaults \u001b[39m=\u001b[39m _refine_defaults_read(\n\u001b[0;32m    900\u001b[0m     dialect,\n\u001b[0;32m    901\u001b[0m     delimiter,\n\u001b[1;32m   (...)\u001b[0m\n\u001b[0;32m    908\u001b[0m     dtype_backend\u001b[39m=\u001b[39mdtype_backend,\n\u001b[0;32m    909\u001b[0m )\n\u001b[0;32m    910\u001b[0m kwds\u001b[39m.\u001b[39mupdate(kwds_defaults)\n\u001b[1;32m--> 912\u001b[0m \u001b[39mreturn\u001b[39;00m _read(filepath_or_buffer, kwds)\n",
      "File \u001b[1;32mc:\\Users\\debot\\anaconda3\\Lib\\site-packages\\pandas\\io\\parsers\\readers.py:577\u001b[0m, in \u001b[0;36m_read\u001b[1;34m(filepath_or_buffer, kwds)\u001b[0m\n\u001b[0;32m    574\u001b[0m _validate_names(kwds\u001b[39m.\u001b[39mget(\u001b[39m\"\u001b[39m\u001b[39mnames\u001b[39m\u001b[39m\"\u001b[39m, \u001b[39mNone\u001b[39;00m))\n\u001b[0;32m    576\u001b[0m \u001b[39m# Create the parser.\u001b[39;00m\n\u001b[1;32m--> 577\u001b[0m parser \u001b[39m=\u001b[39m TextFileReader(filepath_or_buffer, \u001b[39m*\u001b[39m\u001b[39m*\u001b[39mkwds)\n\u001b[0;32m    579\u001b[0m \u001b[39mif\u001b[39;00m chunksize \u001b[39mor\u001b[39;00m iterator:\n\u001b[0;32m    580\u001b[0m     \u001b[39mreturn\u001b[39;00m parser\n",
      "File \u001b[1;32mc:\\Users\\debot\\anaconda3\\Lib\\site-packages\\pandas\\io\\parsers\\readers.py:1407\u001b[0m, in \u001b[0;36mTextFileReader.__init__\u001b[1;34m(self, f, engine, **kwds)\u001b[0m\n\u001b[0;32m   1404\u001b[0m     \u001b[39mself\u001b[39m\u001b[39m.\u001b[39moptions[\u001b[39m\"\u001b[39m\u001b[39mhas_index_names\u001b[39m\u001b[39m\"\u001b[39m] \u001b[39m=\u001b[39m kwds[\u001b[39m\"\u001b[39m\u001b[39mhas_index_names\u001b[39m\u001b[39m\"\u001b[39m]\n\u001b[0;32m   1406\u001b[0m \u001b[39mself\u001b[39m\u001b[39m.\u001b[39mhandles: IOHandles \u001b[39m|\u001b[39m \u001b[39mNone\u001b[39;00m \u001b[39m=\u001b[39m \u001b[39mNone\u001b[39;00m\n\u001b[1;32m-> 1407\u001b[0m \u001b[39mself\u001b[39m\u001b[39m.\u001b[39m_engine \u001b[39m=\u001b[39m \u001b[39mself\u001b[39m\u001b[39m.\u001b[39m_make_engine(f, \u001b[39mself\u001b[39m\u001b[39m.\u001b[39mengine)\n",
      "File \u001b[1;32mc:\\Users\\debot\\anaconda3\\Lib\\site-packages\\pandas\\io\\parsers\\readers.py:1661\u001b[0m, in \u001b[0;36mTextFileReader._make_engine\u001b[1;34m(self, f, engine)\u001b[0m\n\u001b[0;32m   1659\u001b[0m     \u001b[39mif\u001b[39;00m \u001b[39m\"\u001b[39m\u001b[39mb\u001b[39m\u001b[39m\"\u001b[39m \u001b[39mnot\u001b[39;00m \u001b[39min\u001b[39;00m mode:\n\u001b[0;32m   1660\u001b[0m         mode \u001b[39m+\u001b[39m\u001b[39m=\u001b[39m \u001b[39m\"\u001b[39m\u001b[39mb\u001b[39m\u001b[39m\"\u001b[39m\n\u001b[1;32m-> 1661\u001b[0m \u001b[39mself\u001b[39m\u001b[39m.\u001b[39mhandles \u001b[39m=\u001b[39m get_handle(\n\u001b[0;32m   1662\u001b[0m     f,\n\u001b[0;32m   1663\u001b[0m     mode,\n\u001b[0;32m   1664\u001b[0m     encoding\u001b[39m=\u001b[39m\u001b[39mself\u001b[39m\u001b[39m.\u001b[39moptions\u001b[39m.\u001b[39mget(\u001b[39m\"\u001b[39m\u001b[39mencoding\u001b[39m\u001b[39m\"\u001b[39m, \u001b[39mNone\u001b[39;00m),\n\u001b[0;32m   1665\u001b[0m     compression\u001b[39m=\u001b[39m\u001b[39mself\u001b[39m\u001b[39m.\u001b[39moptions\u001b[39m.\u001b[39mget(\u001b[39m\"\u001b[39m\u001b[39mcompression\u001b[39m\u001b[39m\"\u001b[39m, \u001b[39mNone\u001b[39;00m),\n\u001b[0;32m   1666\u001b[0m     memory_map\u001b[39m=\u001b[39m\u001b[39mself\u001b[39m\u001b[39m.\u001b[39moptions\u001b[39m.\u001b[39mget(\u001b[39m\"\u001b[39m\u001b[39mmemory_map\u001b[39m\u001b[39m\"\u001b[39m, \u001b[39mFalse\u001b[39;00m),\n\u001b[0;32m   1667\u001b[0m     is_text\u001b[39m=\u001b[39mis_text,\n\u001b[0;32m   1668\u001b[0m     errors\u001b[39m=\u001b[39m\u001b[39mself\u001b[39m\u001b[39m.\u001b[39moptions\u001b[39m.\u001b[39mget(\u001b[39m\"\u001b[39m\u001b[39mencoding_errors\u001b[39m\u001b[39m\"\u001b[39m, \u001b[39m\"\u001b[39m\u001b[39mstrict\u001b[39m\u001b[39m\"\u001b[39m),\n\u001b[0;32m   1669\u001b[0m     storage_options\u001b[39m=\u001b[39m\u001b[39mself\u001b[39m\u001b[39m.\u001b[39moptions\u001b[39m.\u001b[39mget(\u001b[39m\"\u001b[39m\u001b[39mstorage_options\u001b[39m\u001b[39m\"\u001b[39m, \u001b[39mNone\u001b[39;00m),\n\u001b[0;32m   1670\u001b[0m )\n\u001b[0;32m   1671\u001b[0m \u001b[39massert\u001b[39;00m \u001b[39mself\u001b[39m\u001b[39m.\u001b[39mhandles \u001b[39mis\u001b[39;00m \u001b[39mnot\u001b[39;00m \u001b[39mNone\u001b[39;00m\n\u001b[0;32m   1672\u001b[0m f \u001b[39m=\u001b[39m \u001b[39mself\u001b[39m\u001b[39m.\u001b[39mhandles\u001b[39m.\u001b[39mhandle\n",
      "File \u001b[1;32mc:\\Users\\debot\\anaconda3\\Lib\\site-packages\\pandas\\io\\common.py:859\u001b[0m, in \u001b[0;36mget_handle\u001b[1;34m(path_or_buf, mode, encoding, compression, memory_map, is_text, errors, storage_options)\u001b[0m\n\u001b[0;32m    854\u001b[0m \u001b[39melif\u001b[39;00m \u001b[39misinstance\u001b[39m(handle, \u001b[39mstr\u001b[39m):\n\u001b[0;32m    855\u001b[0m     \u001b[39m# Check whether the filename is to be opened in binary mode.\u001b[39;00m\n\u001b[0;32m    856\u001b[0m     \u001b[39m# Binary mode does not support 'encoding' and 'newline'.\u001b[39;00m\n\u001b[0;32m    857\u001b[0m     \u001b[39mif\u001b[39;00m ioargs\u001b[39m.\u001b[39mencoding \u001b[39mand\u001b[39;00m \u001b[39m\"\u001b[39m\u001b[39mb\u001b[39m\u001b[39m\"\u001b[39m \u001b[39mnot\u001b[39;00m \u001b[39min\u001b[39;00m ioargs\u001b[39m.\u001b[39mmode:\n\u001b[0;32m    858\u001b[0m         \u001b[39m# Encoding\u001b[39;00m\n\u001b[1;32m--> 859\u001b[0m         handle \u001b[39m=\u001b[39m \u001b[39mopen\u001b[39m(\n\u001b[0;32m    860\u001b[0m             handle,\n\u001b[0;32m    861\u001b[0m             ioargs\u001b[39m.\u001b[39mmode,\n\u001b[0;32m    862\u001b[0m             encoding\u001b[39m=\u001b[39mioargs\u001b[39m.\u001b[39mencoding,\n\u001b[0;32m    863\u001b[0m             errors\u001b[39m=\u001b[39merrors,\n\u001b[0;32m    864\u001b[0m             newline\u001b[39m=\u001b[39m\u001b[39m\"\u001b[39m\u001b[39m\"\u001b[39m,\n\u001b[0;32m    865\u001b[0m         )\n\u001b[0;32m    866\u001b[0m     \u001b[39melse\u001b[39;00m:\n\u001b[0;32m    867\u001b[0m         \u001b[39m# Binary mode\u001b[39;00m\n\u001b[0;32m    868\u001b[0m         handle \u001b[39m=\u001b[39m \u001b[39mopen\u001b[39m(handle, ioargs\u001b[39m.\u001b[39mmode)\n",
      "\u001b[1;31mFileNotFoundError\u001b[0m: [Errno 2] No such file or directory: 'Ecom.data'"
     ]
    }
   ],
   "source": [
    "import pandas as pd\n",
    "data = pd.read_csv('Ecom.data')\n",
    "data['Order_Date'] = pd.to_datetime(data['Order_Date'])\n",
    "data['Month'] = data['Order_Date'].dt.month\n",
    "data['Year'] = data['Order_Date'].dt.year\n",
    "grouped = data.groupby(['Region', 'Year', 'Month']).agg({'Revenue': 'sum'}).reset_index()\n",
    "regions = grouped['Region'].unique()\n",
    "for region in regions:\n",
    "    region_data = grouped[grouped['Region'] == region]\n",
    "    plt.figure(figsize=(10, 6))\n",
    "    plt.title(f'Monthly Revenue for {region} Region')\n",
    "    for year in region_data['Year'].unique():\n",
    "        year_data = region_data[region_data['Year'] == year]\n",
    "        plt.plot(year_data['Month'], year_data['Revenue'], label=str(year))\n",
    "    \n",
    "    plt.xlabel('Month')\n",
    "    plt.ylabel('Revenue')\n",
    "    plt.xticks(range(1, 13), [str(i) for i in range(1, 13)])  # Setting month labels\n",
    "    plt.legend(title='Year', loc='upper right')\n",
    "    plt.grid(True)\n",
    "    plt.show()\n"
   ]
  },
  {
   "cell_type": "markdown",
   "id": "dac59dc4",
   "metadata": {},
   "source": [
    "### Ans 9 b)"
   ]
  },
  {
   "cell_type": "code",
   "execution_count": null,
   "id": "9f569635",
   "metadata": {},
   "outputs": [],
   "source": []
  },
  {
   "cell_type": "markdown",
   "id": "dcb8d39f",
   "metadata": {},
   "source": [
    "<font color='blue'>\n",
    "    <font size = 5>\n",
    "    Congratulations! You have learnt how to approach a complex data and extract information out of it. \n",
    "    </font>"
   ]
  }
 ],
 "metadata": {
  "kernelspec": {
   "display_name": "Python 3 (ipykernel)",
   "language": "python",
   "name": "python3"
  },
  "language_info": {
   "codemirror_mode": {
    "name": "ipython",
    "version": 3
   },
   "file_extension": ".py",
   "mimetype": "text/x-python",
   "name": "python",
   "nbconvert_exporter": "python",
   "pygments_lexer": "ipython3",
   "version": "3.11.5"
  }
 },
 "nbformat": 4,
 "nbformat_minor": 5
}
